{
 "cells": [
  {
   "cell_type": "code",
   "execution_count": 25,
   "id": "15e137cc-df1f-43e6-a8e4-6bffad76d242",
   "metadata": {},
   "outputs": [],
   "source": [
    "import pandas as pd\n",
    "import seaborn as sns\n",
    "import matplotlib.pyplot as plt\n",
    "import numpy as np"
   ]
  },
  {
   "cell_type": "code",
   "execution_count": 26,
   "id": "6fbb3866-72b3-4827-a91d-1372a2db0733",
   "metadata": {},
   "outputs": [],
   "source": [
    "data = pd.read_csv('data.csv')\n",
    "data.set_index('Replicate', inplace=True)"
   ]
  },
  {
   "cell_type": "code",
   "execution_count": 27,
   "id": "844fb90d-244c-45c9-a959-1dc895a182b7",
   "metadata": {},
   "outputs": [
    {
     "data": {
      "text/html": [
       "<div>\n",
       "<style scoped>\n",
       "    .dataframe tbody tr th:only-of-type {\n",
       "        vertical-align: middle;\n",
       "    }\n",
       "\n",
       "    .dataframe tbody tr th {\n",
       "        vertical-align: top;\n",
       "    }\n",
       "\n",
       "    .dataframe thead th {\n",
       "        text-align: right;\n",
       "    }\n",
       "</style>\n",
       "<table border=\"1\" class=\"dataframe\">\n",
       "  <thead>\n",
       "    <tr style=\"text-align: right;\">\n",
       "      <th></th>\n",
       "      <th>Group1</th>\n",
       "      <th>Group2</th>\n",
       "      <th>Group3</th>\n",
       "    </tr>\n",
       "    <tr>\n",
       "      <th>Replicate</th>\n",
       "      <th></th>\n",
       "      <th></th>\n",
       "      <th></th>\n",
       "    </tr>\n",
       "  </thead>\n",
       "  <tbody>\n",
       "    <tr>\n",
       "      <th>1</th>\n",
       "      <td>29.16</td>\n",
       "      <td>25.54</td>\n",
       "      <td>30.98</td>\n",
       "    </tr>\n",
       "    <tr>\n",
       "      <th>2</th>\n",
       "      <td>29.54</td>\n",
       "      <td>23.56</td>\n",
       "      <td>29.32</td>\n",
       "    </tr>\n",
       "    <tr>\n",
       "      <th>3</th>\n",
       "      <td>34.94</td>\n",
       "      <td>32.64</td>\n",
       "      <td>29.59</td>\n",
       "    </tr>\n",
       "    <tr>\n",
       "      <th>4</th>\n",
       "      <td>29.95</td>\n",
       "      <td>23.93</td>\n",
       "      <td>35.18</td>\n",
       "    </tr>\n",
       "  </tbody>\n",
       "</table>\n",
       "</div>"
      ],
      "text/plain": [
       "            Group1   Group2   Group3\n",
       "Replicate                           \n",
       "1            29.16    25.54    30.98\n",
       "2            29.54    23.56    29.32\n",
       "3            34.94    32.64    29.59\n",
       "4            29.95    23.93    35.18"
      ]
     },
     "execution_count": 27,
     "metadata": {},
     "output_type": "execute_result"
    }
   ],
   "source": [
    "data"
   ]
  },
  {
   "cell_type": "code",
   "execution_count": 28,
   "id": "83d2703c-980a-4d8b-9064-c225404066e4",
   "metadata": {},
   "outputs": [
    {
     "data": {
      "image/png": "[encoded data removed]",
      "text/plain": [
       "<Figure size 432x288 with 1 Axes>"
      ]
     },
     "metadata": {
      "needs_background": "light"
     },
     "output_type": "display_data"
    }
   ],
   "source": [
    "fig, ax = plt.subplots()\n",
    "data.boxplot(ax=ax)\n",
    "for i, d in enumerate(data):\n",
    "   y = data[d]\n",
    "   x = np.random.normal(i + 1, 0.04, len(y))\n",
    "   plt.scatter(x, y)"
   ]
  },
  {
   "cell_type": "code",
   "execution_count": 30,
   "id": "243c84e8-5953-4f5e-b314-13b4166d4324",
   "metadata": {},
   "outputs": [
    {
     "data": {
      "text/plain": [
       " Group1    30.8975\n",
       " Group2    26.4175\n",
       " Group3    31.2675\n",
       "dtype: float64"
      ]
     },
     "execution_count": 30,
     "metadata": {},
     "output_type": "execute_result"
    }
   ],
   "source": [
    "data.mean()"
   ]
  },
  {
   "cell_type": "code",
   "execution_count": 31,
   "id": "084aaf43-b6b9-4f00-9c39-22c9681e3a6d",
   "metadata": {},
   "outputs": [
    {
     "data": {
      "text/plain": [
       " Group1    29.16\n",
       " Group2    23.56\n",
       " Group3    29.32\n",
       "dtype: float64"
      ]
     },
     "execution_count": 31,
     "metadata": {},
     "output_type": "execute_result"
    }
   ],
   "source": [
    "data.min()"
   ]
  },
  {
   "cell_type": "code",
   "execution_count": 32,
   "id": "6ea50e38-eccd-4b4d-a288-46d08c8698e2",
   "metadata": {},
   "outputs": [
    {
     "data": {
      "text/plain": [
       " Group1    34.94\n",
       " Group2    32.64\n",
       " Group3    35.18\n",
       "dtype: float64"
      ]
     },
     "execution_count": 32,
     "metadata": {},
     "output_type": "execute_result"
    }
   ],
   "source": [
    "data.max()"
   ]
  },
  {
   "cell_type": "code",
   "execution_count": 34,
   "id": "c8d0d77a-e429-489b-9756-dd9484f37042",
   "metadata": {},
   "outputs": [
    {
     "data": {
      "text/plain": [
       " Group1    2.714239\n",
       " Group2    4.236448\n",
       " Group3    2.707833\n",
       "dtype: float64"
      ]
     },
     "execution_count": 34,
     "metadata": {},
     "output_type": "execute_result"
    }
   ],
   "source": [
    "data.std()"
   ]
  },
  {
   "cell_type": "code",
   "execution_count": 39,
   "id": "6ec4d2a2-0cf9-485a-b7c3-d222c02b5c88",
   "metadata": {},
   "outputs": [
    {
     "data": {
      "text/plain": [
       " Group1    1.357119\n",
       " Group2    2.118224\n",
       " Group3    1.353916\n",
       "dtype: float64"
      ]
     },
     "execution_count": 39,
     "metadata": {},
     "output_type": "execute_result"
    }
   ],
   "source": [
    "data.sem()"
   ]
  },
  {
   "cell_type": "code",
   "execution_count": 40,
   "id": "8455bc3c-b2bc-490b-980f-141ca5974090",
   "metadata": {},
   "outputs": [
    {
     "data": {
      "text/plain": [
       " Group1    33.557454\n",
       " Group2    30.569219\n",
       " Group3    33.921176\n",
       "dtype: float64"
      ]
     },
     "execution_count": 40,
     "metadata": {},
     "output_type": "execute_result"
    }
   ],
   "source": [
    "data.mean() + 1.96 * data.sem() # 95% CI upper bounds"
   ]
  },
  {
   "cell_type": "code",
   "execution_count": 42,
   "id": "37d59a9a-15b1-4575-9726-e62ca6439553",
   "metadata": {},
   "outputs": [
    {
     "data": {
      "text/plain": [
       " Group1    28.237546\n",
       " Group2    22.265781\n",
       " Group3    28.613824\n",
       "dtype: float64"
      ]
     },
     "execution_count": 42,
     "metadata": {},
     "output_type": "execute_result"
    }
   ],
   "source": [
    "data.mean() - 1.96 * data.sem() # 95% CI upper bounds"
   ]
  },
  {
   "cell_type": "markdown",
   "id": "a09cbb9e-0558-4530-92da-e5b415c7c839",
   "metadata": {},
   "source": [
    "We should be able to open this using the UBC Syzygy server using this magic URL (requires UBC CWL login):\n",
    "\n",
    "https://ubc.syzygy.ca/jupyter/hub/user-redirect/git-pull?repo=https%3A%2F%2Fgithub.com%2Fgparadis%2Fgsmith_demo&urlpath=tree%2Fgsmith_demo%2Fnotebook.ipynb&branch=main\n",
    "\n",
    "https://ubc.syzygy.ca/jupyter/hub/user-redirect/git-pull?repo=https://github.com/gparadis/gsmith_demo&branch=main\n",
    "\n",
    "&subpath=frst318_lab1.ipynb\n"
   ]
  },
  {
   "cell_type": "code",
   "execution_count": null,
   "id": "ea4497b1-3a50-40f5-a986-525ef6cfd6b1",
   "metadata": {},
   "outputs": [],
   "source": []
  }
 ],
 "metadata": {
  "kernelspec": {
   "display_name": "Python 3 (ipykernel)",
   "language": "python",
   "name": "python3"
  },
  "language_info": {
   "codemirror_mode": {
    "name": "ipython",
    "version": 3
   },
   "file_extension": ".py",
   "mimetype": "text/x-python",
   "name": "python",
   "nbconvert_exporter": "python",
   "pygments_lexer": "ipython3",
   "version": "3.8.10"
  }
 },
 "nbformat": 4,
 "nbformat_minor": 5
}
